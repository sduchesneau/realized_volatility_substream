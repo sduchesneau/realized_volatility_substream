{
 "cells": [
  {
   "cell_type": "markdown",
   "metadata": {},
   "source": [
    "There is a a way to get the SqrtPriceX96 from the tick and vice-versa:\n",
    "\n",
    "\\begin{align*}\n",
    "P &= 1.0001^{\\text{tick}} \\\\\n",
    "\\sqrt{P} &= 1.0001^{\\frac{\\text{tick}}{2}} = \\left(1.0001^{\\text{tick}}\\right)^{\\frac{1}{2}} \\\\\n",
    "\\log_{\\sqrt{1.0001}}\\left(\\sqrt{P}\\right) &= \\text{tick}\n",
    "\\end{align*}\n",
    "\n",
    "\n",
    "Tick to SqrtPriceX96:\n",
    "\n",
    "\n",
    "$$\\sqrt{1.0001}^{\\text{tick}} \\times Q96 = \\sqrt{P} \\times Q96 = \\text{sqrtPriceX96}$$\n",
    "\n",
    "\n",
    "SqrtPriceX96 to Tick:\n",
    "\n",
    "$$ \\sqrt{P}  =  \\frac{sqrtPriceX96}{Q96}  $$\n",
    "\n",
    "\n",
    "$$ \n",
    "\n",
    "\\begin{align*}\n",
    "\\log_{\\sqrt{1.0001}}\\left(\\frac{sqrtPriceX96}{Q96}\\right) &= \\text{tick}\n",
    "\\end{align*}\n",
    "$$\n",
    "\n"
   ]
  },
  {
   "cell_type": "code",
   "execution_count": 4,
   "metadata": {},
   "outputs": [
    {
     "data": {
      "text/plain": [
       "204632"
      ]
     },
     "execution_count": 4,
     "metadata": {},
     "output_type": "execute_result"
    }
   ],
   "source": [
    "import math\n",
    "\n",
    "Q96 = 2 ** 96\n",
    "\n",
    "def tick_to_sqrt_price_x_96(tick):\n",
    "    return int(1.0001 ** (tick / 2) * Q96)\n",
    "\n",
    "def sqrt_price_x_96_to_tick(sqrt_price_x_96):\n",
    "    base = math.sqrt(1.0001)\n",
    "    p = sqrt_price_x_96 / Q96\n",
    "    return math.floor(math.log(p, base))\n",
    "\n",
    "tick = 204632\n",
    "\n",
    "tick_to_sqrt_price_x_96(tick)\n",
    "\n",
    "sqrt_price_x_96 = 2198835844819193856025769912483279\n",
    "sqrt_price_x_96_to_tick(sqrt_price_x_96)\n"
   ]
  },
  {
   "cell_type": "markdown",
   "metadata": {},
   "source": [
    "We can see it works by using sample data of the substream:"
   ]
  },
  {
   "cell_type": "code",
   "execution_count": 7,
   "metadata": {},
   "outputs": [
    {
     "data": {
      "text/plain": [
       "197293"
      ]
     },
     "execution_count": 7,
     "metadata": {},
     "output_type": "execute_result"
    }
   ],
   "source": [
    "sqrtPicex96 = 1523469420953906108383481136475199\n",
    "# the outputted value of the tick on the vent\n",
    "tick = 197293\n",
    "\n",
    "sqrt_price_x_96_to_tick(sqrtPicex96)\n"
   ]
  },
  {
   "cell_type": "markdown",
   "metadata": {},
   "source": [
    "We are interested in calculating realized volatility using differing bases for our calculation. This would enable us to calculate volatility using either ticks or prices.\n",
    "\n",
    "Give price $P_i$, let:\n",
    "$$ u_i = \\ln\\frac{P_i}{P_{i-1}} = \\ln\\Delta P $$\n",
    "\n",
    "The textbook definition of realized volatility is:\n",
    "\\begin{align*}\n",
    "s &= \\sqrt{\\frac{1}{n-1} \\sum_{i=1}^{n} (u_i-\\bar{u})^2} \\\\\n",
    "&= \\sqrt{\\frac{1}{n-1} \\sum_{i=1}^{n} (u_i - \\frac{1}{n}\\sum_{i=1}^{n}u_i)^2}\n",
    "\\end{align*}\n",
    "\n",
    "Suppose we wanted to use the tick values instead of the prices to calculate volatility. As shown above, the tick values are given by:\n",
    "\n",
    "$$ tick_i = \\log_{1.0001} P_i $$\n",
    "\n",
    "We use the properties of logarithms to relate $\\ln$ to $\\log_{1.0001}$:\n",
    "\n",
    "$$ \\ln(x) = \\log_{1.0001}(x) \\cdot \\ln(1.0001) $$\n",
    " \n",
    "Using the above property we can relate the tick values to the $u_i$ calculation above:\n",
    "\n",
    "\\begin{align*}\n",
    "\n",
    "u_i &= \\ln(\\frac{P_i}{P_{i-1}}) \\\\\n",
    "&= \\ln({P_i}) - \\ln({P_{i-1}}) \\\\\n",
    "&= \\log_{1.0001}(P_i)\\cdot\\ln(1.0001) - \\log_{1.0001}(P_{i-1})\\cdot\\ln(1.0001) \\\\\n",
    "&= \\ln(1.0001)\\cdot(\\log_{1.0001}(P_i) - \\log_{1.0001}(P_{i-1})) \\\\\n",
    "&= \\ln(1.0001)\\cdot(tick_i - tick_{i-1})\n",
    "\n",
    "\\end{align*}\n",
    "\n",
    "Substituting this value into the equation for volatility above, we have:\n",
    "\n",
    "\\begin{align*}\n",
    "s &= \\sqrt{\\frac{1}{n-1} \\sum_{i=1}^{n} \\left(u_i - \\frac{1}{n}\\sum_{i=1}^{n}u_i\\right)^2} \\\\\n",
    "&= \\sqrt{\\frac{1}{n-1} \\sum_{i=1}^{n} \\left(\\ln(1.0001)\\cdot(tick_i - tick_{i-1}) - \\frac{1}{n}\\sum_{i=1}^{n}\\ln(1.0001)\\cdot(tick_i - tick_{i-1})\\right)^2}\n",
    "\\end{align*}\n",
    "\n",
    "and after some algebra:\n",
    "\n",
    "\\begin{align*}\n",
    "&= \\sqrt{\\frac{1}{n-1} \\sum_{i=1}^{n} \\left(\\ln(1.0001)\\cdot(tick_i - tick_{i-1}) - \\frac{\\ln(1.0001)}{n}\\sum_{i=1}^{n}(tick_i - tick_{i-1})\\right)^2} \\\\\n",
    "&= \\sqrt{\\frac{1}{n-1} \\sum_{i=1}^{n} \\ln(1.0001)^2\\cdot\\left((tick_i - tick_{i-1}) - \\frac{1}{n}\\sum_{i=1}^{n}(tick_i - tick_{i-1})\\right)^2} \\\\\n",
    "&= \\sqrt{\\frac{\\ln(1.0001)^2}{n-1} \\sum_{i=1}^{n} \\left((tick_i - tick_{i-1}) - \\frac{1}{n}\\sum_{i=1}^{n}(tick_i - tick_{i-1})\\right)^2} \\\\\n",
    "&= \\ln(1.0001)\\cdot\\sqrt{\\frac{1}{n-1} \\sum_{i=1}^{n} \\left((tick_i - tick_{i-1}) - \\frac{1}{n}\\sum_{i=1}^{n}(tick_i - tick_{i-1})\\right)^2} \\\\\n",
    "\\end{align*}\n",
    "\n",
    "We see that calculating volatitily using the tick values is equivalent to calculating volatility using the prices. The primary difference is the factor of $\\ln(1.0001)$"
   ]
  },
  {
   "cell_type": "markdown",
   "metadata": {},
   "source": []
  },
  {
   "cell_type": "markdown",
   "metadata": {},
   "source": []
  }
 ],
 "metadata": {
  "kernelspec": {
   "display_name": "Python 3",
   "language": "python",
   "name": "python3"
  },
  "language_info": {
   "codemirror_mode": {
    "name": "ipython",
    "version": 3
   },
   "file_extension": ".py",
   "mimetype": "text/x-python",
   "name": "python",
   "nbconvert_exporter": "python",
   "pygments_lexer": "ipython3",
   "version": "3.10.12"
  }
 },
 "nbformat": 4,
 "nbformat_minor": 2
}
